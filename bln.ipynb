{
 "cells": [
  {
   "cell_type": "markdown",
   "metadata": {},
   "source": []
  },
  {
   "cell_type": "code",
   "execution_count": 9,
   "metadata": {},
   "outputs": [
    {
     "name": "stdout",
     "output_type": "stream",
     "text": [
      "starting\n"
     ]
    }
   ],
   "source": [
    "print(\"starting\")\n",
    "\n",
    "import numpy as np"
   ]
  },
  {
   "cell_type": "code",
   "execution_count": 8,
   "metadata": {},
   "outputs": [
    {
     "data": {
      "text/plain": [
       "array([ 0.85517318,  0.8390143 ,  0.82029205,  0.84887679,  0.13941946,\n",
       "        0.07081913,  0.86403502])"
      ]
     },
     "execution_count": 8,
     "metadata": {},
     "output_type": "execute_result"
    }
   ],
   "source": [
    "levels = np.random.rand(7);\n",
    "levels"
   ]
  },
  {
   "cell_type": "code",
   "execution_count": null,
   "metadata": {},
   "outputs": [],
   "source": [
    "def and_(a, b):\n",
    "    return a * b;\n",
    "\n",
    "def or_(a, b):\n",
    "    ans = a + b;\n",
    "    \n",
    "    if (ans > 1.0):\n",
    "        return 1.0;\n",
    "    else:\n",
    "        return ans;\n",
    "\n",
    "def nand_(a, b):\n",
    "    return 1.0 - and_(a, b);\n",
    "\n",
    "def nor_(a, b):\n",
    "    return 1.0 - or_(a, b);\n",
    "\n",
    "#(0, 0) -> 0\n",
    "#(1, 0) -> 1\n",
    "#(0, 1) -> 1\n",
    "#(1, 1) -> 0\n",
    "#(0.5, 0.5) -> 0\n",
    "\n",
    "def xor_(a, b):\n",
    "    return abs(a - b)\n",
    "\n",
    "def backprop(out, a, b):\n",
    "    and_dist = abs(and_(a, b) - out)\n",
    "    or_dist = abs(or_(a, b) - out)\n",
    "    nand_dist = abs(nand_(a, b) - out)\n",
    "    nor_dist = abs(nor_(a, b) - out)\n",
    "    xor_dist = abs(xor_(a, b) - out)\n",
    "  \n",
    "    min_dist = min(and_dist, or_dist, nand_dist, nor_dist, xor_dist)\n",
    "    if (min_dist == and_dist):\n",
    "        return 'and'\n",
    "    elif (min_dist == or_dist):\n",
    "        return 'or'\n",
    "    elif (min_dist == nand_dist):\n",
    "        return\n"
   ]
  },
  {
   "cell_type": "code",
   "execution_count": 5,
   "metadata": {},
   "outputs": [
    {
     "name": "stdout",
     "output_type": "stream",
     "text": [
      "2\n"
     ]
    }
   ],
   "source": [
    "if (1 == 1):\n",
    "    print(\"2\")"
   ]
  }
 ],
 "metadata": {
  "kernelspec": {
   "display_name": "Python 3",
   "language": "python",
   "name": "python3"
  },
  "language_info": {
   "codemirror_mode": {
    "name": "ipython",
    "version": 3
   },
   "file_extension": ".py",
   "mimetype": "text/x-python",
   "name": "python",
   "nbconvert_exporter": "python",
   "pygments_lexer": "ipython3",
   "version": "3.6.3"
  }
 },
 "nbformat": 4,
 "nbformat_minor": 2
}
